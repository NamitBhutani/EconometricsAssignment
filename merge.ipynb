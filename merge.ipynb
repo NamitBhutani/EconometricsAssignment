{
 "cells": [
  {
   "cell_type": "code",
   "execution_count": null,
   "metadata": {},
   "outputs": [],
   "source": [
    "import pandas as pd\n",
    "\n",
    "# Load the first DataFrame\n",
    "df1 = pd.read_csv('first_dataframe.csv')  # Replace 'first_dataframe.csv' with the file path of your first DataFrame\n",
    "\n",
    "# Load the second DataFrame\n",
    "df2 = pd.read_csv('second_dataframe.csv')  # Replace 'second_dataframe.csv' with the file path of your second DataFrame\n",
    "\n",
    "# Load the link file as a DataFrame\n",
    "link_file = pd.read_csv('link_file.txt', sep='\\t')  # Assuming the link file is tab-separated, adjust the separator as needed\n",
    "\n",
    "# Merge the DataFrames using the link file\n",
    "merged_df = pd.merge(df1, df2, how='inner', left_on=link_file['column_in_df1'], right_on=link_file['column_in_df2'])\n",
    "\n",
    "# final_df now contains the merged DataFrame\n"
   ]
  }
 ],
 "metadata": {
  "language_info": {
   "name": "python"
  }
 },
 "nbformat": 4,
 "nbformat_minor": 2
}
